{
 "cells": [
  {
   "cell_type": "code",
   "execution_count": null,
   "metadata": {},
   "outputs": [],
   "source": [
    "import requests\n",
    "from bs4 import BeautifulSoup\n",
    "import time\n",
    "\n",
    "library = ['0-9','A','B','C','D','E','F','G','H','I','J','K','L','M','N','O','P','Q','R','S','T','U','V','W','X','Y','Z']\n",
    "\n",
    "text_file = open(\"Output1.csv\", \"w\")\n",
    "\n",
    "\n",
    "with open(\"Output1.csv\", \"w\") as text_file:\n",
    "    st = \"index,title,quality,genere,imdb\"\n",
    "    print(st)\n",
    "    print(st, file=text_file)\n",
    "    index=0\n",
    "    \n",
    "    for i in range(len(library)):\n",
    "        nxtlink = \"https://gostream.is/movies/library/\"+library[i]\n",
    "        page = requests.get(nxtlink)\n",
    "        soup = BeautifulSoup(page.content, 'xml')\n",
    "        time.sleep(1)\n",
    "        \n",
    "        num=1\n",
    "        maxs=0\n",
    "        pagenum=1\n",
    "        \n",
    "        for link in soup.findAll('div', attrs ={\"id\":\"main\"}):\n",
    "            for link in soup.findAll('table', attrs ={\"class\":\"table table-striped\"}):\n",
    "                for link in soup.findAll('tr', attrs ={\"class\":\"mlnew-head\"}):\n",
    "                    maxs = int(link.find_next('td',attrs ={\"class\":\"mlnh-letter\"}).getText().replace('results','').replace(' ','').replace('#',''))\n",
    "        \n",
    "        while (num<maxs):\n",
    "            time.sleep(1)\n",
    "            nxtlink = \"https://gostream.is/movies/library/\"+library[i]+\"/\"+str(pagenum)\n",
    "            page = requests.get(nxtlink)\n",
    "            soup = BeautifulSoup(page.content, 'xml')\n",
    "            pagenum=pagenum+1\n",
    "            for link in soup.findAll('div', attrs ={\"id\":\"main\"}):\n",
    "                for link in soup.findAll('table', attrs ={\"class\":\"table table-striped\"}):\n",
    "                    count=1;\n",
    "                    for link in soup.findAll('tr',attrs={\"class\":\"mlnew\"}):\n",
    "                        num=num+1\n",
    "                        index=index+1\n",
    "                        title = link.find_next('td',attrs ={\"class\":\"mlnh-2\"}).getText().replace('\\n','').replace(',',' ')\n",
    "                        quality = link.find_next('td',attrs ={\"class\":\"mlnh-3\"}).getText().replace('\\n','').replace(' ','').replace(',','|')\n",
    "                        genere = link.find_next('td',attrs ={\"class\":\"mlnh-5\"}).getText().replace('\\n','').replace(' ','').replace(',','|')\n",
    "                        imdb = link.find_next('td',attrs ={\"class\":\"mlnh-6\"}).getText().replace('\\n','').replace(' ','').replace(',','|')\n",
    "                        st = str(index)+\",\"+title+\",\"+quality+\",\"+genere+\",\"+imdb\n",
    "                        print(st)\n",
    "                                         \n",
    "        \n",
    "    \n",
    "   "
   ]
  },
  {
   "cell_type": "code",
   "execution_count": null,
   "metadata": {
    "collapsed": true
   },
   "outputs": [],
   "source": []
  }
 ],
 "metadata": {
  "kernelspec": {
   "display_name": "Python 3",
   "language": "python",
   "name": "python3"
  },
  "language_info": {
   "codemirror_mode": {
    "name": "ipython",
    "version": 3
   },
   "file_extension": ".py",
   "mimetype": "text/x-python",
   "name": "python",
   "nbconvert_exporter": "python",
   "pygments_lexer": "ipython3",
   "version": "3.6.1"
  }
 },
 "nbformat": 4,
 "nbformat_minor": 2
}
